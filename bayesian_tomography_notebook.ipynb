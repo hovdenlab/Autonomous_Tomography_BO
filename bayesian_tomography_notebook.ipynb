{
 "cells": [
  {
   "attachments": {},
   "cell_type": "markdown",
   "metadata": {},
   "source": [
    "## Import Modules"
   ]
  },
  {
   "cell_type": "code",
   "execution_count": null,
   "metadata": {},
   "outputs": [],
   "source": [
    "from skopt import Optimizer\n",
    "from skopt.space.space import Real\n",
    "from skopt.plots import plot_gaussian_process\n",
    "from sklearn.gaussian_process.kernels import Matern\n",
    "from skopt.learning import GaussianProcessRegressor as GPR\n",
    "import simulation_utils_FISTA\n",
    "import random\n",
    "import numpy as np\n",
    "from datetime import datetime\n",
    "import matplotlib.pyplot as plt\n",
    "import os"
   ]
  },
  {
   "attachments": {},
   "cell_type": "markdown",
   "metadata": {},
   "source": [
    "## Prepare reconstruction script"
   ]
  },
  {
   "cell_type": "code",
   "execution_count": null,
   "metadata": {},
   "outputs": [],
   "source": [
    "# Test Phantom Object \n",
    "filename = 'yourfile'\n",
    "\n",
    "# Tilt Series for Experiment / Simulation\n",
    "tiltAngles = np.arange(-70,70,2)\n",
    "recon_parameters = {'lambdaParam':0, 'Niter': 100, 'nTViter':15, 'alg':'fista'}\n",
    "\n",
    "# Class for Performing Reconstructions\n",
    "reconstructor_object = simulation_utils_FISTA.FISTA_simulation(filename,tiltAngles)"
   ]
  },
  {
   "attachments": {},
   "cell_type": "markdown",
   "metadata": {},
   "source": [
    "## Prepare optimizer"
   ]
  },
  {
   "cell_type": "code",
   "execution_count": null,
   "metadata": {},
   "outputs": [],
   "source": [
    "# BO Parameters\n",
    "nBOiter = 20        # Total iterations (including initial pts)\n",
    "lower_bound = 1\n",
    "upper_bound = 5000\n",
    "n_init_pts = 5\n",
    "nu = 2.5        # nu controls the smoothness of the matern kernel fitting for GP (e.g. nu = 1.5 corresponds to once differentiable functions, and nu = 2.5 to twice differentiable functions)."
   ]
  },
  {
   "cell_type": "code",
   "execution_count": null,
   "metadata": {},
   "outputs": [],
   "source": [
    "# Define the Kernel\n",
    "mat_kern = Matern(length_scale = 1, length_scale_bounds = (1, 10), nu = nu)\n",
    "gpr = GPR(kernel = mat_kern, n_restarts_optimizer = 10)"
   ]
  },
  {
   "cell_type": "code",
   "execution_count": null,
   "metadata": {},
   "outputs": [],
   "source": [
    "# Define bounds for fit parameter\n",
    "bounds = [Real(lower_bound, upper_bound, name = 'lambda')]\n",
    "initial_sampling = np.linspace(lower_bound,  upper_bound, n_init_pts)\n",
    "init_pts_generator = 'grid'"
   ]
  },
  {
   "cell_type": "code",
   "execution_count": null,
   "metadata": {},
   "outputs": [],
   "source": [
    "# Optimizer for BO\n",
    "rng_seed = int(datetime.now().strftime('%f'))\n",
    "random.seed(rng_seed)\n",
    "opt = Optimizer(bounds, base_estimator = gpr, acq_func = 'gp_hedge',n_initial_points = n_init_pts, initial_point_generator=init_pts_generator, acq_optimizer='sampling',random_state=rng_seed)"
   ]
  },
  {
   "cell_type": "code",
   "execution_count": null,
   "metadata": {},
   "outputs": [],
   "source": [
    "# Parameters for plotting and saving Bayesian predictions\n",
    "save_directory = 'Bayesian_Optimization_tomography/' # Your results folder\n",
    "fname = 'lambdaParam_tuning.h5' # File with results\n",
    "output_name = 'lambdaParam_explore' # h5 group name\n",
    "if not os.path.exists(save_directory): os.makedirs(save_directory) # Make directory\n",
    "kwargs = {'show_acq_func' :False, 'show_mu' :True, 'show_legend': False} # Optional arguments for plotting"
   ]
  },
  {
   "attachments": {},
   "cell_type": "markdown",
   "metadata": {},
   "source": [
    "## Main Loop"
   ]
  },
  {
   "cell_type": "code",
   "execution_count": null,
   "metadata": {},
   "outputs": [],
   "source": [
    "\n",
    "for i in range(nBOiter):\n",
    "\n",
    "    # Ask optimizer for next parameter to evaluate\n",
    "    next_lambda = opt.ask()[0]\n",
    "    recon_parameters['lambdaParam'] = next_lambda\n",
    "\n",
    "    # Perform reconstruction, evaluate the performance (this function call can be replaced for any general black box function of interest)\n",
    "    data_error = reconstructor_object.FISTA_recon(recon_parameters)\n",
    "\n",
    "    # Tell the optimizer the result of the reconstruction\n",
    "    res = opt.tell([next_lambda], data_error)\n",
    "    \n",
    "    # Save data of interest:\n",
    "    reconstructor_object.save_results(save_directory+fname, output_name, i+1)          # Save 2D Slices from the Reconstruction\n",
    "\n",
    "    # Save plot of Bayesian Optimization\n",
    "    if i >= n_init_pts:\n",
    "        plt.figure()\n",
    "        plot_gaussian_process(res,**kwargs)     # Recreate Parameter Estimate Plots from Fig. 3a\n",
    "        plt.savefig(f'{save_directory}bo_gp{i+1}.png', transparent = False, bbox_inches = 'tight')"
   ]
  }
 ],
 "metadata": {
  "language_info": {
   "name": "python"
  },
  "orig_nbformat": 4
 },
 "nbformat": 4,
 "nbformat_minor": 2
}
